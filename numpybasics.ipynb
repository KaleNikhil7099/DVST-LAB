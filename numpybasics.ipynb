{
  "nbformat": 4,
  "nbformat_minor": 0,
  "metadata": {
    "colab": {
      "provenance": [],
      "authorship_tag": "ABX9TyOQEobfxC6SA0wcwVa66/k4",
      "include_colab_link": true
    },
    "kernelspec": {
      "name": "python3",
      "display_name": "Python 3"
    },
    "language_info": {
      "name": "python"
    }
  },
  "cells": [
    {
      "cell_type": "markdown",
      "metadata": {
        "id": "view-in-github",
        "colab_type": "text"
      },
      "source": [
        "<a href=\"https://colab.research.google.com/github/KaleNikhil7099/DVST-LAB/blob/main/numpybasics.ipynb\" target=\"_parent\"><img src=\"https://colab.research.google.com/assets/colab-badge.svg\" alt=\"Open In Colab\"/></a>"
      ]
    },
    {
      "cell_type": "code",
      "execution_count": 1,
      "metadata": {
        "colab": {
          "base_uri": "https://localhost:8080/"
        },
        "id": "eS-WSySWog98",
        "outputId": "d7faada9-e325-4d24-efb8-38ef5ebff9de"
      },
      "outputs": [
        {
          "output_type": "stream",
          "name": "stdout",
          "text": [
            "no of dimention : 2\n",
            "shape of array : (2, 3)\n",
            "size of array : 6\n",
            "array store element of type: int64\n",
            "length of  onearray in bytes : 8\n",
            "arrays data : <memory at 0x786e8c33cc70>\n"
          ]
        }
      ],
      "source": [
        "import numpy as np\n",
        "arr= np.array([[1,2,3],[4,2,5]])\n",
        "print(\"no of dimention :\",arr.ndim)\n",
        "print(\"shape of array :\",arr.shape)\n",
        "print(\"size of array :\",arr.size)\n",
        "print(\"array store element of type:\",arr.dtype)\n",
        "print(\"length of  onearray in bytes :\",arr.itemsize)\n",
        "print(\"arrays data :\",arr.data)\n",
        "\n"
      ]
    }
  ]
}